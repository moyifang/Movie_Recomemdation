{
  "cells": [
    {
      "cell_type": "markdown",
      "metadata": {
        "id": "5Gya-mwxqgp7"
      },
      "source": [
        "## Data process"
      ]
    },
    {
      "cell_type": "markdown",
      "metadata": {
        "id": "9USrI9IXqcUy"
      },
      "source": [
        "## Load data and print head"
      ]
    },
    {
      "cell_type": "code",
      "execution_count": 1240,
      "metadata": {
        "id": "rmgdM2UamDGC"
      },
      "outputs": [],
      "source": [
        "import pandas as pd\n",
        "import numpy as np\n",
        "import math\n",
        "df_11=pd.read_csv('https://raw.githubusercontent.com/moyifang/Movie_Recomemdation/main/ratings_hm_11.csv',delimiter=\",\", encoding = \"ISO-8859-1\")\n",
        "df_25=pd.read_csv('https://raw.githubusercontent.com/moyifang/Movie_Recomemdation/main/ratings_hm_25.csv',delimiter=\",\", encoding = \"ISO-8859-1\")\n",
        "df_50=pd.read_csv('https://raw.githubusercontent.com/moyifang/Movie_Recomemdation/main/ratings_hm_50.csv',delimiter=\",\", encoding = \"ISO-8859-1\")\n",
        "df_93=pd.read_csv('https://raw.githubusercontent.com/moyifang/Movie_Recomemdation/main/ratings_hm_93.csv',delimiter=\",\", encoding = \"ISO-8859-1\")"
      ]
    },
    {
      "cell_type": "code",
      "execution_count": 1241,
      "metadata": {
        "colab": {
          "base_uri": "https://localhost:8080/",
          "height": 206
        },
        "id": "LTYSXfuYquW8",
        "outputId": "0c711b06-9e06-488c-8115-cfb2bc918559"
      },
      "outputs": [
        {
          "data": {
            "text/html": [
              "<div>\n",
              "<style scoped>\n",
              "    .dataframe tbody tr th:only-of-type {\n",
              "        vertical-align: middle;\n",
              "    }\n",
              "\n",
              "    .dataframe tbody tr th {\n",
              "        vertical-align: top;\n",
              "    }\n",
              "\n",
              "    .dataframe thead th {\n",
              "        text-align: right;\n",
              "    }\n",
              "</style>\n",
              "<table border=\"1\" class=\"dataframe\">\n",
              "  <thead>\n",
              "    <tr style=\"text-align: right;\">\n",
              "      <th></th>\n",
              "      <th>Unnamed: 0</th>\n",
              "      <th>userId</th>\n",
              "      <th>movieId</th>\n",
              "      <th>rating</th>\n",
              "      <th>genres</th>\n",
              "    </tr>\n",
              "  </thead>\n",
              "  <tbody>\n",
              "    <tr>\n",
              "      <th>0</th>\n",
              "      <td>0</td>\n",
              "      <td>1</td>\n",
              "      <td>1</td>\n",
              "      <td>3</td>\n",
              "      <td>Comedy</td>\n",
              "    </tr>\n",
              "    <tr>\n",
              "      <th>1</th>\n",
              "      <td>1</td>\n",
              "      <td>1</td>\n",
              "      <td>3</td>\n",
              "      <td>4</td>\n",
              "      <td>Drama|Thriller</td>\n",
              "    </tr>\n",
              "    <tr>\n",
              "      <th>2</th>\n",
              "      <td>2</td>\n",
              "      <td>1</td>\n",
              "      <td>7</td>\n",
              "      <td>4</td>\n",
              "      <td>Adventure|Fantasy|Sci-Fi</td>\n",
              "    </tr>\n",
              "    <tr>\n",
              "      <th>3</th>\n",
              "      <td>3</td>\n",
              "      <td>1</td>\n",
              "      <td>8</td>\n",
              "      <td>4</td>\n",
              "      <td>Horror</td>\n",
              "    </tr>\n",
              "    <tr>\n",
              "      <th>4</th>\n",
              "      <td>4</td>\n",
              "      <td>1</td>\n",
              "      <td>9</td>\n",
              "      <td>2</td>\n",
              "      <td>Comedy</td>\n",
              "    </tr>\n",
              "  </tbody>\n",
              "</table>\n",
              "</div>"
            ],
            "text/plain": [
              "   Unnamed: 0  userId  movieId  rating                    genres\n",
              "0           0       1        1       3                    Comedy\n",
              "1           1       1        3       4            Drama|Thriller\n",
              "2           2       1        7       4  Adventure|Fantasy|Sci-Fi\n",
              "3           3       1        8       4                    Horror\n",
              "4           4       1        9       2                    Comedy"
            ]
          },
          "execution_count": 1241,
          "metadata": {},
          "output_type": "execute_result"
        }
      ],
      "source": [
        "df_50.head()"
      ]
    },
    {
      "cell_type": "code",
      "execution_count": 1242,
      "metadata": {},
      "outputs": [
        {
          "data": {
            "text/html": [
              "<div>\n",
              "<style scoped>\n",
              "    .dataframe tbody tr th:only-of-type {\n",
              "        vertical-align: middle;\n",
              "    }\n",
              "\n",
              "    .dataframe tbody tr th {\n",
              "        vertical-align: top;\n",
              "    }\n",
              "\n",
              "    .dataframe thead th {\n",
              "        text-align: right;\n",
              "    }\n",
              "</style>\n",
              "<table border=\"1\" class=\"dataframe\">\n",
              "  <thead>\n",
              "    <tr style=\"text-align: right;\">\n",
              "      <th></th>\n",
              "      <th>Unnamed: 0</th>\n",
              "      <th>userId</th>\n",
              "      <th>movieId</th>\n",
              "      <th>rating</th>\n",
              "      <th>genres</th>\n",
              "    </tr>\n",
              "  </thead>\n",
              "  <tbody>\n",
              "    <tr>\n",
              "      <th>0</th>\n",
              "      <td>0</td>\n",
              "      <td>1</td>\n",
              "      <td>6</td>\n",
              "      <td>4</td>\n",
              "      <td>Action|Sci-Fi|Thriller</td>\n",
              "    </tr>\n",
              "    <tr>\n",
              "      <th>1</th>\n",
              "      <td>1</td>\n",
              "      <td>1</td>\n",
              "      <td>14</td>\n",
              "      <td>4</td>\n",
              "      <td>Action|Thriller</td>\n",
              "    </tr>\n",
              "    <tr>\n",
              "      <th>2</th>\n",
              "      <td>2</td>\n",
              "      <td>1</td>\n",
              "      <td>22</td>\n",
              "      <td>4</td>\n",
              "      <td>Action|Adventure|Sci-Fi|Thriller</td>\n",
              "    </tr>\n",
              "    <tr>\n",
              "      <th>3</th>\n",
              "      <td>3</td>\n",
              "      <td>1</td>\n",
              "      <td>23</td>\n",
              "      <td>3</td>\n",
              "      <td>Action|Adventure|Crime|Drama</td>\n",
              "    </tr>\n",
              "    <tr>\n",
              "      <th>4</th>\n",
              "      <td>4</td>\n",
              "      <td>1</td>\n",
              "      <td>30</td>\n",
              "      <td>4</td>\n",
              "      <td>Comedy|Fantasy</td>\n",
              "    </tr>\n",
              "  </tbody>\n",
              "</table>\n",
              "</div>"
            ],
            "text/plain": [
              "   Unnamed: 0  userId  movieId  rating                            genres\n",
              "0           0       1        6       4            Action|Sci-Fi|Thriller\n",
              "1           1       1       14       4                   Action|Thriller\n",
              "2           2       1       22       4  Action|Adventure|Sci-Fi|Thriller\n",
              "3           3       1       23       3      Action|Adventure|Crime|Drama\n",
              "4           4       1       30       4                    Comedy|Fantasy"
            ]
          },
          "execution_count": 1242,
          "metadata": {},
          "output_type": "execute_result"
        }
      ],
      "source": [
        "df_11.head()"
      ]
    },
    {
      "cell_type": "code",
      "execution_count": 1243,
      "metadata": {
        "colab": {
          "base_uri": "https://localhost:8080/",
          "height": 206
        },
        "id": "YahaoLuAq8nt",
        "outputId": "ed845488-f1c4-46ef-c7bf-f9e821429fa2"
      },
      "outputs": [
        {
          "data": {
            "text/plain": [
              "'movie_id = df_11.movieId.value_counts()\\nuser_id = df_11.userId.value_counts()\\nprint(len(movie_id))\\nprint(len(user_id))\\nprint(len(df_11.userId))'"
            ]
          },
          "execution_count": 1243,
          "metadata": {},
          "output_type": "execute_result"
        }
      ],
      "source": [
        "'''movie_id = df_11.movieId.value_counts()\n",
        "user_id = df_11.userId.value_counts()\n",
        "print(len(movie_id))\n",
        "print(len(user_id))\n",
        "print(len(df_11.userId))'''"
      ]
    },
    {
      "cell_type": "code",
      "execution_count": 1244,
      "metadata": {},
      "outputs": [
        {
          "data": {
            "text/plain": [
              "\"def max_eval_movies(data):\\n    moviefreq = data.movieId.value_counts() # 统计每部电影的评分人数，可看出电影的流行程度，默认是降序排列\\n    print(moviefreq.count())\\n    sorted_byfreq = data.loc[moviefreq.index] # 根据频次大小依次取电影信息\\n    sorted_byfreq['ranking']=range(moviefreq.count()) # 加上排名\\n    sorted_byfreq['freq']=moviefreq # 加上频次\\n    print(sorted_byfreq.iloc[0:10]) # 前十大流行电影\""
            ]
          },
          "execution_count": 1244,
          "metadata": {},
          "output_type": "execute_result"
        }
      ],
      "source": [
        "'''def max_eval_movies(data):\n",
        "    moviefreq = data.movieId.value_counts() # 统计每部电影的评分人数，可看出电影的流行程度，默认是降序排列\n",
        "    print(moviefreq.count())\n",
        "    sorted_byfreq = data.loc[moviefreq.index] # 根据频次大小依次取电影信息\n",
        "    sorted_byfreq['ranking']=range(moviefreq.count()) # 加上排名\n",
        "    sorted_byfreq['freq']=moviefreq # 加上频次\n",
        "    print(sorted_byfreq.iloc[0:10]) # 前十大流行电影'''"
      ]
    },
    {
      "cell_type": "code",
      "execution_count": 1245,
      "metadata": {},
      "outputs": [
        {
          "name": "stdout",
          "output_type": "stream",
          "text": [
            "300\n",
            "    Unnamed: 0  userId  movieId  rating                        genres  \\\n",
            "3            3       1       23       3  Action|Adventure|Crime|Drama   \n",
            "7            7       1       68       3                  Action|Drama   \n",
            "13          13       1      174       4               Action|Thriller   \n",
            "1            1       1       14       4               Action|Thriller   \n",
            "49          49       2      178       5                    Sci-Fi|War   \n",
            "24          24       1      274       4                        Comedy   \n",
            "6            6       1       43       4        Adventure|Comedy|Drama   \n",
            "9            9       1      127       3                Comedy|Western   \n",
            "43          43       2      123       3        Drama|Romance|Thriller   \n",
            "14          14       1      176       5                 Drama|Romance   \n",
            "\n",
            "    ranking  freq  \n",
            "3         0    58  \n",
            "7         1    52  \n",
            "13        2    52  \n",
            "1         3    51  \n",
            "49        4    51  \n",
            "24        5    49  \n",
            "6         6    48  \n",
            "9         7    48  \n",
            "43        8    48  \n",
            "14        9    48  \n"
          ]
        }
      ],
      "source": [
        "max_eval_movies(df_11)"
      ]
    },
    {
      "cell_type": "code",
      "execution_count": 1246,
      "metadata": {},
      "outputs": [
        {
          "data": {
            "text/plain": [
              "\"import matplotlib.pyplot as plt\\ndef rating_times(data):\\n    moviefreq1 =  data.movieId.value_counts().copy()\\n    moviefreq1.index = range(moviefreq1.count()) # 对索引重新赋值，方便画图\\n    fig, ax = plt.subplots(1, 1, figsize=(12, 4))\\n    moviefreq1.plot(ax=ax, title='Rating times')\""
            ]
          },
          "execution_count": 1246,
          "metadata": {},
          "output_type": "execute_result"
        }
      ],
      "source": [
        "'''import matplotlib.pyplot as plt\n",
        "def rating_times(data):\n",
        "    moviefreq1 =  data.movieId.value_counts().copy()\n",
        "    moviefreq1.index = range(moviefreq1.count()) # 对索引重新赋值，方便画图\n",
        "    fig, ax = plt.subplots(1, 1, figsize=(12, 4))\n",
        "    moviefreq1.plot(ax=ax, title='Rating times')'''"
      ]
    },
    {
      "cell_type": "code",
      "execution_count": 1247,
      "metadata": {},
      "outputs": [
        {
          "data": {
            "text/plain": [
              "'rating_times(df_11)\\nrating_times(df_25)'"
            ]
          },
          "execution_count": 1247,
          "metadata": {},
          "output_type": "execute_result"
        }
      ],
      "source": [
        "'''rating_times(df_11)\n",
        "rating_times(df_25)'''"
      ]
    },
    {
      "cell_type": "code",
      "execution_count": 1248,
      "metadata": {},
      "outputs": [
        {
          "data": {
            "text/plain": [
              "'max_eval_movies(df_25)'"
            ]
          },
          "execution_count": 1248,
          "metadata": {},
          "output_type": "execute_result"
        }
      ],
      "source": [
        "'''max_eval_movies(df_25)'''"
      ]
    },
    {
      "cell_type": "code",
      "execution_count": 1249,
      "metadata": {},
      "outputs": [
        {
          "data": {
            "text/plain": [
              "\"meanrating = df_11['rating'].groupby(df_11['movieId']).mean()\\nmeanrating_user =  df_11['rating'].groupby(df_11['userId']).mean()\\nmeanrating_o = meanrating.sort_values(ascending = False)\\nprint(meanrating_user.sort_values(ascending = False))\\nprint(meanrating_o)\""
            ]
          },
          "execution_count": 1249,
          "metadata": {},
          "output_type": "execute_result"
        }
      ],
      "source": [
        "'''meanrating = df_11['rating'].groupby(df_11['movieId']).mean()\n",
        "meanrating_user =  df_11['rating'].groupby(df_11['userId']).mean()\n",
        "meanrating_o = meanrating.sort_values(ascending = False)\n",
        "print(meanrating_user.sort_values(ascending = False))\n",
        "print(meanrating_o)'''"
      ]
    },
    {
      "cell_type": "code",
      "execution_count": 1250,
      "metadata": {},
      "outputs": [
        {
          "data": {
            "text/plain": [
              "\"sorted_byrate = df_11.loc[meanrating.index] # 根据频次大小依次取电影信息\\nsorted_byrate['ranking']=range(meanrating.count()) # 加上排名\\nsorted_byrate['rating']=meanrating # 加上评分\\nmoviefreq = df_11.movieId.value_counts()\\nsorted_byrate['freq']=moviefreq.loc[meanrating.index] # 加上评分个数\\nsorted_byrate.iloc[0:10] # 前十大流行电影\""
            ]
          },
          "execution_count": 1250,
          "metadata": {},
          "output_type": "execute_result"
        }
      ],
      "source": [
        "'''sorted_byrate = df_11.loc[meanrating.index] # 根据频次大小依次取电影信息\n",
        "sorted_byrate['ranking']=range(meanrating.count()) # 加上排名\n",
        "sorted_byrate['rating']=meanrating # 加上评分\n",
        "moviefreq = df_11.movieId.value_counts()\n",
        "sorted_byrate['freq']=moviefreq.loc[meanrating.index] # 加上评分个数\n",
        "sorted_byrate.iloc[0:10] # 前十大流行电影'''"
      ]
    },
    {
      "cell_type": "code",
      "execution_count": 1251,
      "metadata": {},
      "outputs": [
        {
          "data": {
            "text/plain": [
              "\"fig, ax = plt.subplots(1, 1, figsize=(12, 4))\\nax.scatter(sorted_byrate['freq'],sorted_byrate['rating'])\""
            ]
          },
          "execution_count": 1251,
          "metadata": {},
          "output_type": "execute_result"
        }
      ],
      "source": [
        "'''fig, ax = plt.subplots(1, 1, figsize=(12, 4))\n",
        "ax.scatter(sorted_byrate['freq'],sorted_byrate['rating'])'''"
      ]
    },
    {
      "cell_type": "markdown",
      "metadata": {
        "id": "23GE6ktWrLi6"
      },
      "source": [
        "## get the genre of every movie"
      ]
    },
    {
      "cell_type": "code",
      "execution_count": 1252,
      "metadata": {},
      "outputs": [
        {
          "data": {
            "text/plain": [
              "'genreslist = [] # 存储为所有电影标注的基因\\ngenreseries = df_11.genres.str.split(pat = \"|\")\\ngenrecount = genreseries.count()\\nfor i in range(genrecount):\\n    genreslist.extend(genreseries.iloc[i]) # 把 Series 中的所有元素展平组成一个 list\\n\\nallmoviegenres = pd.Series(genreslist)\\nprint(allmoviegenres)\\ngenrestats = allmoviegenres.value_counts()\\nfig, ax = plt.subplots(1, 1, figsize=(15, 4))\\ngenrestats.plot(ax=ax, kind=\\'bar\\', title=\\'freq\\')'"
            ]
          },
          "execution_count": 1252,
          "metadata": {},
          "output_type": "execute_result"
        }
      ],
      "source": [
        "'''genreslist = [] # 存储为所有电影标注的基因\n",
        "genreseries = df_11.genres.str.split(pat = \"|\")\n",
        "genrecount = genreseries.count()\n",
        "for i in range(genrecount):\n",
        "    genreslist.extend(genreseries.iloc[i]) # 把 Series 中的所有元素展平组成一个 list\n",
        "\n",
        "allmoviegenres = pd.Series(genreslist)\n",
        "print(allmoviegenres)\n",
        "genrestats = allmoviegenres.value_counts()\n",
        "fig, ax = plt.subplots(1, 1, figsize=(15, 4))\n",
        "genrestats.plot(ax=ax, kind='bar', title='freq')'''"
      ]
    },
    {
      "cell_type": "code",
      "execution_count": 1253,
      "metadata": {},
      "outputs": [
        {
          "data": {
            "text/plain": [
              "'genreslist = [] # 存储为所有电影标注的基因\\ngenreseries = df_25.genres.str.split(pat = \"|\")\\ngenrecount = genreseries.count()\\nfor i in range(genrecount):\\n    genreslist.extend(genreseries.iloc[i]) # transfer the series to list\\nlen(genreslist)\\nprint(len(genreslist))\\nallmoviegenres = pd.Series(genreslist)\\ngenrestats = allmoviegenres.value_counts()\\nfig, ax = plt.subplots(1, 1, figsize=(15, 4))\\ngenrestats.plot(ax=ax, kind=\\'bar\\', title=\\'freq\\')'"
            ]
          },
          "execution_count": 1253,
          "metadata": {},
          "output_type": "execute_result"
        }
      ],
      "source": [
        "'''genreslist = [] # 存储为所有电影标注的基因\n",
        "genreseries = df_25.genres.str.split(pat = \"|\")\n",
        "genrecount = genreseries.count()\n",
        "for i in range(genrecount):\n",
        "    genreslist.extend(genreseries.iloc[i]) # transfer the series to list\n",
        "len(genreslist)\n",
        "print(len(genreslist))\n",
        "allmoviegenres = pd.Series(genreslist)\n",
        "genrestats = allmoviegenres.value_counts()\n",
        "fig, ax = plt.subplots(1, 1, figsize=(15, 4))\n",
        "genrestats.plot(ax=ax, kind='bar', title='freq')'''"
      ]
    },
    {
      "cell_type": "code",
      "execution_count": 1254,
      "metadata": {},
      "outputs": [],
      "source": [
        "df_data = df_50\n",
        "df_data.head()\n",
        "meanrating_movie = df_data['rating'].groupby(df_data['movieId']).mean()\n",
        "meanrating_user =  df_data['rating'].groupby(df_data['userId']).mean()\n",
        "\n"
      ]
    },
    {
      "cell_type": "markdown",
      "metadata": {
        "id": "VfET2Jd9rrZ3"
      },
      "source": [
        "## Check the datatypes of each column "
      ]
    },
    {
      "cell_type": "code",
      "execution_count": 1255,
      "metadata": {
        "id": "w9mPbjc68U75"
      },
      "outputs": [],
      "source": [
        "def get_list_index_map(list):\n",
        "    \"\"\"\n",
        "    transfrom list to dictionary\n",
        "    :param list: input list\n",
        "    :return:\n",
        "    1. map item:index\n",
        "    2. map_reverse index:item\n",
        "    \"\"\"\n",
        "    map = {}\n",
        "    map_reverse = {}\n",
        "    for i in range(len(list)):\n",
        "        map[list[i]] = i\n",
        "        map_reverse[i] = list[i]\n",
        "    return map, map_reverse\n",
        "\n",
        "def get_type_list(data):\n",
        "    \"\"\"\n",
        "    get all the genres\n",
        "    :return: list for all the genres\n",
        "    \"\"\"\n",
        "    genres_list = data['genres'].values.tolist()\n",
        "    type_list = []\n",
        "    for item in genres_list:\n",
        "        movie_types = item.split('|')\n",
        "        for movie_type in movie_types:\n",
        "            if movie_type not in type_list and movie_type != '(no genres listed)':\n",
        "                type_list.append(movie_type)\n",
        "    return type_list\n",
        "\n",
        "# turn to list\n",
        "\n",
        "user_list = df_data['userId'].drop_duplicates().values.tolist()\n",
        "movie_list = df_data['movieId'].drop_duplicates().values.tolist()\n",
        "genres_list = df_data['genres'].values.tolist()\n",
        "type_list = get_type_list(df_data)\n",
        "type_map, type_map_reverse = get_list_index_map(type_list)\n",
        "user_map, user_map_reverse = get_list_index_map(user_list)\n",
        "movie_map, movie_map_reverse = get_list_index_map(movie_list)\n",
        "    #, user_map_reverse,movie_map, movie_map_reverse\n",
        "# 获得原index-数组index的map，便于后续处理"
      ]
    },
    {
      "cell_type": "code",
      "execution_count": 1256,
      "metadata": {},
      "outputs": [
        {
          "name": "stdout",
          "output_type": "stream",
          "text": [
            "[[3. 4. 4. ... 0. 0. 0.]\n",
            " [4. 4. 3. ... 0. 0. 0.]\n",
            " [3. 0. 3. ... 0. 0. 0.]\n",
            " ...\n",
            " [5. 5. 0. ... 2. 1. 0.]\n",
            " [0. 5. 4. ... 5. 3. 4.]\n",
            " [4. 5. 0. ... 0. 0. 0.]]\n"
          ]
        }
      ],
      "source": [
        "from sklearn.preprocessing import MinMaxScaler\n",
        "min_max_scaler = MinMaxScaler(feature_range=(-1,1))\n",
        "def get_rating_matrix(data):\n",
        "    \"\"\"\n",
        "    matrix for rating\n",
        "    :return: 2*2 matrix,M[i,j]represnet the rating of movie_j from user_i,missing vlaue = 0\n",
        "    \"\"\"\n",
        "    matrix = np.zeros((len(user_map.keys()), len(movie_map.keys())))\n",
        "    for row in data.itertuples(index=True):\n",
        "        user = user_map[getattr(row, \"userId\")]\n",
        "        movie = movie_map[getattr(row, \"movieId\")]\n",
        "        rate = getattr(row, \"rating\")\n",
        "        matrix[user, movie] = rate\n",
        "    return matrix\n",
        "ratings_matrix = get_rating_matrix(df_data)    \n",
        "print(ratings_matrix)"
      ]
    },
    {
      "cell_type": "code",
      "execution_count": 1257,
      "metadata": {},
      "outputs": [
        {
          "data": {
            "image/png": "[encoded data removed]",
            "text/plain": [
              "<Figure size 288x288 with 2 Axes>"
            ]
          },
          "metadata": {
            "needs_background": "light"
          },
          "output_type": "display_data"
        }
      ],
      "source": [
        "A = ratings_matrix[1:25,1:25]\n",
        "ax = plt.matshow(A,cmap=plt.cm.Reds,)\n",
        "figsize=(14, 14)\n",
        "plt.colorbar(ax.colorbar, fraction=0.025)\n",
        "plt.axis('off') \n",
        "plt.title(\"Data_Sparsity_50\",fontsize=12)\n",
        "plt.xlabel('Movie ID')\n",
        "plt.ylabel('User ID')\n",
        "plt.show()"
      ]
    },
    {
      "cell_type": "code",
      "execution_count": 1258,
      "metadata": {},
      "outputs": [],
      "source": [
        "def get_user_sim_matrix(input_matrix):\n",
        "    \"\"\"\n",
        "    build the simlirity tast matrix for users\n",
        "    :param input_matrix: input matrix, and row[i] represnet the eigenvectpr of user[i]\n",
        "    :return: sysmmetric matrix, M[i,j]=M[j,i]=sim(user_i,user_j)\n",
        "    \"\"\"\n",
        "    size = len(input_matrix)\n",
        "    matrix = np.zeros((size, size))\n",
        "    for i in range(size):\n",
        "        for j in range(i + 1, size):\n",
        "            sim = cosine_similarity(input_matrix[i], input_matrix[j])\n",
        "            # i row of matrix: movie ranks from user i \n",
        "            # sim = 1\n",
        "            matrix[i, j] = sim\n",
        "            matrix[j, i] = sim  # 对称矩阵，对角线为0\n",
        "    return matrix\n",
        "\n",
        "\n",
        "def cosine_similarity(list1, list2):\n",
        "    \"\"\"\n",
        "    :param list1: eigen_vector for user[1]\n",
        "    :param list2: eigen_vector for user[2]\n",
        "    :return: the cosine similarity for 2 vectors\n",
        "    \"\"\"\n",
        "    res = 0\n",
        "    d1 = 0\n",
        "    d2 = 0\n",
        "    list1_n=[]\n",
        "    list2_n=[]\n",
        "    for index in range(len(list1)):\n",
        "        if list1[index] != 0 and list2[index]!= 0: \n",
        "            list1_n.append(list1[index])\n",
        "            list2_n.append(list2[index])\n",
        "    if len(list1_n)>4:\n",
        "        for index in range(len(list1_n)):\n",
        "            val1 = list1_n[index]-3\n",
        "            val2 = list2_n[index]-3\n",
        "            # for (val1, val2) in zip(list1_n, list2_n):\n",
        "            res += val1 * val2\n",
        "            d1 += val1 ** 2\n",
        "            d2 += val2 ** 2\n",
        "        return res / (math.sqrt(d1 * d2))\n",
        "    else:\n",
        "        return 0\n",
        "ratings_matrix = get_rating_matrix(df_data)\n",
        "ratings_matrix_n = min_max_scaler.fit_transform(get_rating_matrix(df_data))\n",
        "user_sim_matrix = get_user_sim_matrix(ratings_matrix)\n",
        "np.savetxt('user_sim_matrix.csv', user_sim_matrix, delimiter = ',')"
      ]
    },
    {
      "cell_type": "code",
      "execution_count": 1259,
      "metadata": {},
      "outputs": [],
      "source": [
        "def Pearson_user_sim_matrix(input_matrix):\n",
        "    \"\"\"\n",
        "    build the simlirity tast matrix for users\n",
        "    :param input_matrix: input matrix, and row[i] represnet the eigenvectpr of user[i]\n",
        "    :return: sysmmetric matrix, M[i,j]=M[j,i]=sim(user_i,user_j)\n",
        "    \"\"\"\n",
        "    size = len(input_matrix)\n",
        "    matrix = np.zeros((size, size))\n",
        "    for i in range(size):\n",
        "        for j in range(i + 1, size):\n",
        "            sim = pearson_similarity(input_matrix[i], input_matrix[j])\n",
        "            # i row of matrix: movie ranks from user i \n",
        "            # sim = 1\n",
        "            matrix[i, j] = sim\n",
        "            matrix[j, i] = sim  # 对称矩阵，对角线为0\n",
        "    return matrix\n",
        "\n",
        "from numpy import *\n",
        "\n",
        "def pearson_similarity(list1, list2):\n",
        "    \"\"\"\n",
        "    :param list1: eigen_vector for user[1]\n",
        "    :param list2: eigen_vector for user[2]\n",
        "    :return: the cosine similarity for 2 vectors\n",
        "    \"\"\"\n",
        "    res = 0\n",
        "    d1 = 0\n",
        "    d2 = 0\n",
        "    list1_n=[]\n",
        "    list2_n=[]\n",
        "    for item in range(len(list1)):\n",
        "        if list1[item] != 0 and list2[item]!= 0: \n",
        "            list1_n.append(list1[item])\n",
        "            list2_n.append(list2[item])\n",
        "    if len(list1_n)>4:\n",
        "        list1 = [x for x in list1 if x!=0]\n",
        "        list2 = [x for x in list2 if x!=0]\n",
        "        for index in range(len(list1_n)):\n",
        "            val1 = list1_n[index] - mean(list1)\n",
        "            val2 = list2_n[index] - mean(list2)\n",
        "            # for (val1, val2) in zip(list1_n, list2_n):\n",
        "            res += val1 * val2\n",
        "            d1 += val1 ** 2\n",
        "            d2 += val2 ** 2\n",
        "        return res / (math.sqrt(d1 * d2))\n",
        "    else:\n",
        "        return 0\n",
        "ratings_matrix = get_rating_matrix(df_data)\n",
        "pearson_user_sim_matrix = Pearson_user_sim_matrix(ratings_matrix)\n",
        "np.savetxt('pearson_user_sim_matrix.csv', pearson_user_sim_matrix, delimiter = ',')\n",
        "\n"
      ]
    },
    {
      "cell_type": "code",
      "execution_count": 1260,
      "metadata": {},
      "outputs": [],
      "source": [
        "def Pearson_movie_sim_matrix(input_matrix):\n",
        "    \"\"\"\n",
        "    build the simlirity tast matrix for users\n",
        "    :param input_matrix: input matrix, and row[i] represnet the eigenvectpr of user[i]\n",
        "    :return: sysmmetric matrix, M[i,j]=M[j,i]=sim(user_i,user_j)\n",
        "    \"\"\"\n",
        "    size = len(input_matrix)\n",
        "    matrix = np.zeros((size, size))\n",
        "    for i in range(size):\n",
        "        for j in range(i + 1, size):\n",
        "            sim = pearson_similarity(input_matrix[:,i], input_matrix[:,j])\n",
        "            # i row of matrix: movie ranks from user i \n",
        "            # sim = 1\n",
        "            matrix[i, j] = sim\n",
        "            matrix[j, i] = sim  # 对称矩阵，对角线为0\n",
        "    return matrix\n",
        "\n",
        "from numpy import *\n",
        "\n",
        "def pearson_similarity(list1, list2):\n",
        "    \"\"\"\n",
        "    :param list1: eigen_vector for user[1]\n",
        "    :param list2: eigen_vector for user[2]\n",
        "    :return: the cosine similarity for 2 vectors\n",
        "    \"\"\"\n",
        "    res = 0\n",
        "    d1 = 0\n",
        "    d2 = 0\n",
        "    list1_n=[]\n",
        "    list2_n=[]\n",
        "    for item in range(len(list1)):\n",
        "        if list1[item] != 0 and list2[item]!= 0: \n",
        "            list1_n.append(list1[item])\n",
        "            list2_n.append(list2[item])\n",
        "    if len(list1_n)>4:\n",
        "        list1 = [x for x in list1 if x!=0]\n",
        "        list2 = [x for x in list2 if x!=0]\n",
        "        for index in range(len(list1_n)):\n",
        "            val1 = list1_n[index] - mean(list1)\n",
        "            val2 = list2_n[index] - mean(list2)\n",
        "            # for (val1, val2) in zip(list1_n, list2_n):\n",
        "            res += val1 * val2\n",
        "            d1 += val1 ** 2\n",
        "            d2 += val2 ** 2\n",
        "        return res / (math.sqrt(d1 * d2))\n",
        "    else:\n",
        "        return 0\n",
        "ratings_matrix = get_rating_matrix(df_data)\n",
        "pearson_movie_sim_matrix = Pearson_movie_sim_matrix(ratings_matrix)\n",
        "np.savetxt('pearson_movie_sim_matrix.csv', pearson_movie_sim_matrix, delimiter = ',')\n",
        "\n"
      ]
    },
    {
      "cell_type": "code",
      "execution_count": 1261,
      "metadata": {},
      "outputs": [],
      "source": [
        "import matplotlib.pyplot as plt  \n",
        "def get_K(sim_mat, min_similarity=0.5):\n",
        "    num = np.sum(abs(sim_mat[:,1:])>min_similarity, axis=1) #统计用户大于min_similarity的评分数\n",
        "    \n",
        "    # 画图 \n",
        "    plt.hist(num, bins=40, facecolor=\"blue\", edgecolor=\"black\", alpha=0.7)\n",
        "    plt.xlabel(u\"user_num/movie_number\")\n",
        "    plt.ylabel(u\"Frequency\")\n",
        "    plt.title(u\"user_num/movie_number-Frequency distribution hist Histogram\")\n",
        "    plt.show()\n",
        "    \n",
        "    num_sort = np.sort(-num)\n",
        "    line = int(0.8*len(sim_mat))\n",
        "    K = -1*num_sort[line]\n",
        "    return K"
      ]
    },
    {
      "cell_type": "code",
      "execution_count": 1262,
      "metadata": {},
      "outputs": [
        {
          "name": "stdout",
          "output_type": "stream",
          "text": [
            "[-15 -14 -13 -13 -13 -13 -12 -11 -11 -11 -11 -10 -10 -10 -10 -10 -10 -10\n",
            "  -9  -9  -9  -9  -8  -8  -8  -8  -8  -8  -8  -8  -8  -8  -7  -7  -7  -7\n",
            "  -7  -7  -6  -6  -6  -6  -6  -6  -6  -6  -6  -6  -6  -6  -6  -6  -5  -5\n",
            "  -5  -5  -5  -5  -5  -5  -5  -5  -5  -5  -5  -4  -4  -4  -4  -4  -4  -4\n",
            "  -4  -4  -4  -4  -4  -4  -4  -4  -4  -4  -4  -4  -4  -4  -4  -3  -3  -3\n",
            "  -3  -3  -3  -3  -3  -3  -3  -3  -3  -3  -3  -2  -2  -2  -2  -2  -2  -2\n",
            "  -2  -2  -2  -2  -2  -2  -2  -2  -2  -2  -2  -2  -2  -2  -2  -1  -1  -1\n",
            "  -1  -1  -1  -1  -1  -1  -1  -1  -1  -1  -1  -1  -1  -1  -1   0   0   0\n",
            "   0   0   0   0   0   0]\n",
            "150\n",
            "0\n"
          ]
        }
      ],
      "source": [
        "sim_mat=np.loadtxt(open(\"./pearson_movie_sim_matrix.csv\", \"rb\"), delimiter=\",\")\n",
        "num = np.sum(abs(sim_mat[:,1:])>0.5, axis=1)\n",
        "num_sort = np.sort(-num)\n",
        "line = int(len(sim_mat))\n",
        "K = -1*num_sort[line-1]\n",
        "print(num_sort)\n",
        "print(line)\n",
        "print(K)"
      ]
    },
    {
      "cell_type": "code",
      "execution_count": 1263,
      "metadata": {},
      "outputs": [
        {
          "data": {
            "image/png": "[encoded data removed]",
            "text/plain": [
              "<Figure size 432x288 with 1 Axes>"
            ]
          },
          "metadata": {
            "needs_background": "light"
          },
          "output_type": "display_data"
        },
        {
          "name": "stdout",
          "output_type": "stream",
          "text": [
            "min_similarity: 0.5 K: 28\n"
          ]
        }
      ],
      "source": [
        "sim_mat=np.loadtxt(open(\"./movie_sim_matrix.csv\", \"rb\"), delimiter=\",\")\n",
        "min_similarity = 0.5\n",
        "K = get_K(sim_mat, min_similarity=min_similarity)\n",
        "print('min_similarity:',min_similarity,'K:',K)"
      ]
    },
    {
      "cell_type": "code",
      "execution_count": 1264,
      "metadata": {},
      "outputs": [
        {
          "data": {
            "image/png": "[encoded data removed]",
            "text/plain": [
              "<Figure size 432x288 with 1 Axes>"
            ]
          },
          "metadata": {
            "needs_background": "light"
          },
          "output_type": "display_data"
        },
        {
          "name": "stdout",
          "output_type": "stream",
          "text": [
            "min_similarity: 0.8 K: 0\n"
          ]
        }
      ],
      "source": [
        "sim_mat=np.loadtxt(open(\"./pearson_user_sim_matrix.csv\", \"rb\"), delimiter=\",\")\n",
        "min_similarity = 0.8\n",
        "K = get_K(sim_mat, min_similarity=min_similarity)\n",
        "print('min_similarity:',min_similarity,'K:',K)"
      ]
    },
    {
      "cell_type": "markdown",
      "metadata": {},
      "source": [
        "KNN"
      ]
    },
    {
      "cell_type": "code",
      "execution_count": 1265,
      "metadata": {},
      "outputs": [],
      "source": [
        "def k_neighbor(matrix, index,movie, k):\n",
        "    \"\"\"\n",
        "    输入相似矩阵，读取k邻居的index\n",
        "    :param matrix: 相似矩阵\n",
        "    :param index: target index\n",
        "    :param k:\n",
        "    :return: list([k-index, similarity],....)\n",
        "    \"\"\"\n",
        "    tmp = []\n",
        "    line = matrix[index]\n",
        "    if ratings_matrix[index,movie] != 0:\n",
        "        for i in range(len(line)):\n",
        "            tmp.append([i, line[i]])\n",
        "    else:\n",
        "        tmp = [[index,0] for i in range(k)]\n",
        "    tmp.sort(key=lambda val: abs(val[1]), reverse=True)\n",
        "    return tmp[:k]"
      ]
    },
    {
      "cell_type": "code",
      "execution_count": 1266,
      "metadata": {},
      "outputs": [],
      "source": [
        "if True:\n",
        "    def get_predict(matrix, index, k):\n",
        "        \"\"\"\n",
        "        获取预测评分\n",
        "        :param matrix: 相似矩阵\n",
        "        :param index: 目标index\n",
        "        :param k:k邻居的k\n",
        "        :return: 根据KNN，获得对第index位用户评分的预测\n",
        "        \"\"\" \n",
        "        ratings_matrix = get_rating_matrix(df_data)\n",
        "        R = []\n",
        "        for movie in range(len(ratings_matrix[0])):\n",
        "            neighbors = k_neighbor(matrix, index, movie, k)\n",
        "            all_sim = 0\n",
        "            rate = 0\n",
        "\n",
        "            for pair in neighbors:\n",
        "                neighbor_index = pair[0]\n",
        "                neighbor_sim = pair[1]\n",
        "                r = ratings_matrix[neighbor_index,movie]\n",
        "                rate += (r-meanrating_user.values[neighbor_index])* neighbor_sim \n",
        "                all_sim += neighbor_sim\n",
        "            rate /= all_sim+0.00001\n",
        "            rate = rate + meanrating_user.values[index]\n",
        "            R.append(rate)\n",
        "        return R"
      ]
    },
    {
      "cell_type": "code",
      "execution_count": 1267,
      "metadata": {},
      "outputs": [],
      "source": [
        "if True:\n",
        "    def get_movie_predict(matrix, index, k):\n",
        "        \"\"\"\n",
        "        获取预测评分\n",
        "        :param matrix: 相似矩阵\n",
        "        :param index: 目标index\n",
        "        :param k:k邻居的k\n",
        "        :return: 根据KNN，获得对第index位用户评分的预测\n",
        "        \"\"\" \n",
        "        ratings_matrix = get_rating_matrix(df_data)\n",
        "        R = []\n",
        "        for movie in range(len(ratings_matrix[0])):\n",
        "            neighbors = k_neighbor(matrix, index, movie, k)\n",
        "            all_sim = 0\n",
        "            rate = 0\n",
        "\n",
        "            for pair in neighbors:\n",
        "                neighbor_index = pair[0]\n",
        "                neighbor_sim = pair[1]\n",
        "                r = ratings_matrix[neighbor_index,movie]\n",
        "                rate += (r-meanrating_movie.values[neighbor_index])* neighbor_sim \n",
        "                all_sim += neighbor_sim\n",
        "            rate /= all_sim+0.00001\n",
        "            rate = rate + meanrating_movie.values[index]\n",
        "            R.append(rate)\n",
        "        return R"
      ]
    },
    {
      "cell_type": "code",
      "execution_count": 1268,
      "metadata": {},
      "outputs": [],
      "source": [
        "def get_CFRecommend(matrix, index, k, n):\n",
        "    \"\"\"\n",
        "    获取推荐\n",
        "    :param matrix: sim matrix\n",
        "    :param index: goal index\n",
        "    :param k: K-neibourgh \n",
        "    :param n: the topN for recommendation\n",
        "    :return: list([movie_index,rating],...)\n",
        "    \"\"\"\n",
        "    rate = get_predict(matrix, index, k)  # 获取预测评分\n",
        "    for i in range(len(rate)):  # 如果用户已经评分过了，把预测评分设为0，也就是不会再推荐看过的电影\n",
        "        if ratings_matrix[index][i] != 0:\n",
        "            rate[i] = 0\n",
        "    res = []\n",
        "    for i in range(len(rate)):\n",
        "        res.append([i, rate[i]])\n",
        "    res.sort(key=lambda val: val[1], reverse=True)\n",
        "    return res[:n]\n"
      ]
    },
    {
      "cell_type": "code",
      "execution_count": 1269,
      "metadata": {},
      "outputs": [],
      "source": [
        "def get_movie_CFRecommend(matrix, index, k, n):\n",
        "    \"\"\"\n",
        "    获取推荐\n",
        "    :param matrix: sim matrix\n",
        "    :param index: goal index\n",
        "    :param k: K-neibourgh \n",
        "    :param n: the topN for recommendation\n",
        "    :return: list([movie_index,rating],...)\n",
        "    \"\"\"\n",
        "    rate = get_movie_predict(matrix, index, k)  # 获取预测评分\n",
        "    for i in range(len(rate)):  # 如果用户已经评分过了，把预测评分设为0，也就是不会再推荐看过的电影\n",
        "        if ratings_matrix[index][i] != 0:\n",
        "            rate[i] = 0\n",
        "    res = []\n",
        "    for i in range(len(rate)):\n",
        "        res.append([i, rate[i]])\n",
        "    res.sort(key=lambda val: val[1], reverse=True)\n",
        "    return res[:n]"
      ]
    },
    {
      "cell_type": "markdown",
      "metadata": {
        "id": "MFpfBWSAtTN-"
      },
      "source": [
        "## Line-plot temperatures (in a single chart) and bar-plot humidity parameters "
      ]
    },
    {
      "cell_type": "code",
      "execution_count": 1270,
      "metadata": {},
      "outputs": [
        {
          "name": "stdout",
          "output_type": "stream",
          "text": [
            "Processing Movie 0\n",
            "Processing Movie 1\n",
            "Processing Movie 2\n",
            "Processing Movie 3\n",
            "Processing Movie 4\n",
            "Processing Movie 5\n",
            "Processing Movie 6\n",
            "Processing Movie 7\n",
            "Processing Movie 8\n",
            "Processing Movie 9\n",
            "Processing Movie 10\n",
            "Processing Movie 11\n",
            "Processing Movie 12\n",
            "Processing Movie 13\n",
            "Processing Movie 14\n",
            "Processing Movie 15\n",
            "Processing Movie 16\n",
            "Processing Movie 17\n",
            "Processing Movie 18\n",
            "Processing Movie 19\n",
            "Processing Movie 20\n",
            "Processing Movie 21\n",
            "Processing Movie 22\n",
            "Processing Movie 23\n",
            "Processing Movie 24\n",
            "Processing Movie 25\n",
            "Processing Movie 26\n",
            "Processing Movie 27\n",
            "Processing Movie 28\n",
            "Processing Movie 29\n",
            "Processing Movie 30\n",
            "Processing Movie 31\n",
            "Processing Movie 32\n",
            "Processing Movie 33\n",
            "Processing Movie 34\n",
            "Processing Movie 35\n",
            "Processing Movie 36\n",
            "Processing Movie 37\n",
            "Processing Movie 38\n",
            "Processing Movie 39\n",
            "Processing Movie 40\n",
            "Processing Movie 41\n",
            "Processing Movie 42\n",
            "Processing Movie 43\n",
            "Processing Movie 44\n",
            "Processing Movie 45\n",
            "Processing Movie 46\n",
            "Processing Movie 47\n",
            "Processing Movie 48\n",
            "Processing Movie 49\n",
            "Processing Movie 50\n",
            "Processing Movie 51\n",
            "Processing Movie 52\n",
            "Processing Movie 53\n",
            "Processing Movie 54\n",
            "Processing Movie 55\n",
            "Processing Movie 56\n",
            "Processing Movie 57\n",
            "Processing Movie 58\n",
            "Processing Movie 59\n",
            "Processing Movie 60\n",
            "Processing Movie 61\n",
            "Processing Movie 62\n",
            "Processing Movie 63\n",
            "Processing Movie 64\n",
            "Processing Movie 65\n",
            "Processing Movie 66\n",
            "Processing Movie 67\n",
            "Processing Movie 68\n",
            "Processing Movie 69\n",
            "Processing Movie 70\n",
            "Processing Movie 71\n",
            "Processing Movie 72\n",
            "Processing Movie 73\n",
            "Processing Movie 74\n",
            "Processing Movie 75\n",
            "Processing Movie 76\n",
            "Processing Movie 77\n",
            "Processing Movie 78\n",
            "Processing Movie 79\n",
            "Processing Movie 80\n",
            "Processing Movie 81\n",
            "Processing Movie 82\n",
            "Processing Movie 83\n",
            "Processing Movie 84\n",
            "Processing Movie 85\n",
            "Processing Movie 86\n",
            "Processing Movie 87\n",
            "Processing Movie 88\n",
            "Processing Movie 89\n",
            "Processing Movie 90\n",
            "Processing Movie 91\n",
            "Processing Movie 92\n",
            "Processing Movie 93\n",
            "Processing Movie 94\n",
            "Processing Movie 95\n",
            "Processing Movie 96\n",
            "Processing Movie 97\n",
            "Processing Movie 98\n",
            "Processing Movie 99\n",
            "Processing Movie 100\n",
            "Processing Movie 101\n",
            "Processing Movie 102\n",
            "Processing Movie 103\n",
            "Processing Movie 104\n",
            "Processing Movie 105\n",
            "Processing Movie 106\n",
            "Processing Movie 107\n",
            "Processing Movie 108\n",
            "Processing Movie 109\n",
            "Processing Movie 110\n",
            "Processing Movie 111\n",
            "Processing Movie 112\n",
            "Processing Movie 113\n",
            "Processing Movie 114\n",
            "Processing Movie 115\n",
            "Processing Movie 116\n",
            "Processing Movie 117\n",
            "Processing Movie 118\n",
            "Processing Movie 119\n",
            "Processing Movie 120\n",
            "Processing Movie 121\n",
            "Processing Movie 122\n",
            "Processing Movie 123\n",
            "Processing Movie 124\n",
            "Processing Movie 125\n",
            "Processing Movie 126\n",
            "Processing Movie 127\n",
            "Processing Movie 128\n",
            "Processing Movie 129\n",
            "Processing Movie 130\n",
            "Processing Movie 131\n",
            "Processing Movie 132\n",
            "Processing Movie 133\n",
            "Processing Movie 134\n",
            "Processing Movie 135\n",
            "Processing Movie 136\n",
            "Processing Movie 137\n",
            "Processing Movie 138\n",
            "Processing Movie 139\n",
            "Processing Movie 140\n",
            "Processing Movie 141\n",
            "Processing Movie 142\n",
            "Processing Movie 143\n",
            "Processing Movie 144\n",
            "Processing Movie 145\n",
            "Processing Movie 146\n",
            "Processing Movie 147\n",
            "Processing Movie 148\n",
            "Processing Movie 149\n"
          ]
        }
      ],
      "source": [
        "def type_rank_map():\n",
        "    \"\"\"\n",
        "    compute the rank of movies for different types\n",
        "    :return: map{'type':[(movie_id,mean_rating,rating numbers),...],...}\n",
        "    \"\"\"\n",
        "    map = {}\n",
        "    for t in type_list:\n",
        "        map[t] = []\n",
        "    for movie in range(len(movie_list)):\n",
        "        print('Processing Movie', movie)\n",
        "        # compute the mean rating of the movie i\n",
        "        rates = np.array(ratings_matrix)[:, movie]\n",
        "        count = 0\n",
        "        rate = 0\n",
        "        for r in rates:\n",
        "            if r != 0:\n",
        "                rate += r\n",
        "                count += 1\n",
        "        if count != 0:  # in case of divide by 0\n",
        "            rate = rate / count\n",
        "        # 将(电影,评分,评分人数)加到对应的map中\n",
        "        types = genres_list[movie].split('|')\n",
        "        for t in types:\n",
        "            map[t].append((movie, rate, count))\n",
        "    # order by the mean rating, order by the rate numbers if the movies have same mean_rating\n",
        "    for t in type_list:\n",
        "        temp = map[t]\n",
        "        temp.sort(key=lambda val: (val[1], val[2]), reverse=True)\n",
        "        map[t] = temp\n",
        "    return map\n",
        "\n",
        "type_rank_map = type_rank_map()\n",
        "import json\n",
        "with open('type_rank_map.json','w') as file_obj:\n",
        "    json.dump(type_rank_map,file_obj)\n"
      ]
    },
    {
      "cell_type": "code",
      "execution_count": 1271,
      "metadata": {},
      "outputs": [],
      "source": [
        "def get_user_favor_matrix():\n",
        "    \"\"\"\n",
        "    构造用户偏好矩阵\n",
        "    :return: [i,j]表示用户i对第j类型电影的喜爱程度\n",
        "    \"\"\"\n",
        "    matrix = np.zeros((len(user_list), len(type_list)))\n",
        "    for user in range((len(user_list))):\n",
        "        weight = 0\n",
        "        rating = ratings_matrix[user]\n",
        "        for movie in range(len(rating)):\n",
        "            if rating[movie] != 0:\n",
        "                # update favor\n",
        "                types = genres_list[movie].split('|')\n",
        "                for t in types:\n",
        "                    if t in type_map.keys():\n",
        "                        matrix[user][type_map[t]] += rating[movie]\n",
        "                        weight += rating[movie]\n",
        "        matrix[user] /= weight\n",
        "    return matrix\n"
      ]
    },
    {
      "cell_type": "code",
      "execution_count": 1272,
      "metadata": {},
      "outputs": [
        {
          "name": "stdout",
          "output_type": "stream",
          "text": [
            "(150, 17)\n"
          ]
        },
        {
          "data": {
            "text/html": [
              "<div>\n",
              "<style scoped>\n",
              "    .dataframe tbody tr th:only-of-type {\n",
              "        vertical-align: middle;\n",
              "    }\n",
              "\n",
              "    .dataframe tbody tr th {\n",
              "        vertical-align: top;\n",
              "    }\n",
              "\n",
              "    .dataframe thead th {\n",
              "        text-align: right;\n",
              "    }\n",
              "</style>\n",
              "<table border=\"1\" class=\"dataframe\">\n",
              "  <thead>\n",
              "    <tr style=\"text-align: right;\">\n",
              "      <th></th>\n",
              "      <th>0</th>\n",
              "      <th>1</th>\n",
              "      <th>2</th>\n",
              "      <th>3</th>\n",
              "      <th>4</th>\n",
              "      <th>5</th>\n",
              "      <th>6</th>\n",
              "      <th>7</th>\n",
              "      <th>8</th>\n",
              "      <th>9</th>\n",
              "      <th>10</th>\n",
              "      <th>11</th>\n",
              "      <th>12</th>\n",
              "      <th>13</th>\n",
              "      <th>14</th>\n",
              "      <th>15</th>\n",
              "      <th>16</th>\n",
              "    </tr>\n",
              "  </thead>\n",
              "  <tbody>\n",
              "    <tr>\n",
              "      <th>0</th>\n",
              "      <td>0.170181</td>\n",
              "      <td>0.138554</td>\n",
              "      <td>0.112952</td>\n",
              "      <td>0.054217</td>\n",
              "      <td>0.030120</td>\n",
              "      <td>0.058735</td>\n",
              "      <td>0.025602</td>\n",
              "      <td>0.036145</td>\n",
              "      <td>0.055723</td>\n",
              "      <td>0.034639</td>\n",
              "      <td>0.100904</td>\n",
              "      <td>0.081325</td>\n",
              "      <td>0.027108</td>\n",
              "      <td>0.019578</td>\n",
              "      <td>0.042169</td>\n",
              "      <td>0.012048</td>\n",
              "      <td>0.0</td>\n",
              "    </tr>\n",
              "    <tr>\n",
              "      <th>1</th>\n",
              "      <td>0.222789</td>\n",
              "      <td>0.178571</td>\n",
              "      <td>0.103741</td>\n",
              "      <td>0.011905</td>\n",
              "      <td>0.017007</td>\n",
              "      <td>0.023810</td>\n",
              "      <td>0.018707</td>\n",
              "      <td>0.061224</td>\n",
              "      <td>0.068027</td>\n",
              "      <td>0.042517</td>\n",
              "      <td>0.102041</td>\n",
              "      <td>0.030612</td>\n",
              "      <td>0.034014</td>\n",
              "      <td>0.013605</td>\n",
              "      <td>0.057823</td>\n",
              "      <td>0.013605</td>\n",
              "      <td>0.0</td>\n",
              "    </tr>\n",
              "    <tr>\n",
              "      <th>2</th>\n",
              "      <td>0.218241</td>\n",
              "      <td>0.151466</td>\n",
              "      <td>0.089577</td>\n",
              "      <td>0.040717</td>\n",
              "      <td>0.026059</td>\n",
              "      <td>0.019544</td>\n",
              "      <td>0.014658</td>\n",
              "      <td>0.052117</td>\n",
              "      <td>0.073290</td>\n",
              "      <td>0.043974</td>\n",
              "      <td>0.128664</td>\n",
              "      <td>0.055375</td>\n",
              "      <td>0.016287</td>\n",
              "      <td>0.035831</td>\n",
              "      <td>0.027687</td>\n",
              "      <td>0.006515</td>\n",
              "      <td>0.0</td>\n",
              "    </tr>\n",
              "    <tr>\n",
              "      <th>3</th>\n",
              "      <td>0.179878</td>\n",
              "      <td>0.146341</td>\n",
              "      <td>0.105183</td>\n",
              "      <td>0.051829</td>\n",
              "      <td>0.019817</td>\n",
              "      <td>0.036585</td>\n",
              "      <td>0.022866</td>\n",
              "      <td>0.044207</td>\n",
              "      <td>0.062500</td>\n",
              "      <td>0.050305</td>\n",
              "      <td>0.097561</td>\n",
              "      <td>0.076220</td>\n",
              "      <td>0.044207</td>\n",
              "      <td>0.021341</td>\n",
              "      <td>0.041159</td>\n",
              "      <td>0.000000</td>\n",
              "      <td>0.0</td>\n",
              "    </tr>\n",
              "    <tr>\n",
              "      <th>4</th>\n",
              "      <td>0.134686</td>\n",
              "      <td>0.143911</td>\n",
              "      <td>0.112546</td>\n",
              "      <td>0.057196</td>\n",
              "      <td>0.022140</td>\n",
              "      <td>0.053506</td>\n",
              "      <td>0.016605</td>\n",
              "      <td>0.036900</td>\n",
              "      <td>0.060886</td>\n",
              "      <td>0.036900</td>\n",
              "      <td>0.097786</td>\n",
              "      <td>0.090406</td>\n",
              "      <td>0.044280</td>\n",
              "      <td>0.036900</td>\n",
              "      <td>0.049815</td>\n",
              "      <td>0.005535</td>\n",
              "      <td>0.0</td>\n",
              "    </tr>\n",
              "    <tr>\n",
              "      <th>5</th>\n",
              "      <td>0.145340</td>\n",
              "      <td>0.150079</td>\n",
              "      <td>0.123223</td>\n",
              "      <td>0.050553</td>\n",
              "      <td>0.031596</td>\n",
              "      <td>0.053712</td>\n",
              "      <td>0.014218</td>\n",
              "      <td>0.037915</td>\n",
              "      <td>0.045814</td>\n",
              "      <td>0.044234</td>\n",
              "      <td>0.107425</td>\n",
              "      <td>0.074250</td>\n",
              "      <td>0.048973</td>\n",
              "      <td>0.011058</td>\n",
              "      <td>0.048973</td>\n",
              "      <td>0.012638</td>\n",
              "      <td>0.0</td>\n",
              "    </tr>\n",
              "    <tr>\n",
              "      <th>6</th>\n",
              "      <td>0.177347</td>\n",
              "      <td>0.163934</td>\n",
              "      <td>0.126677</td>\n",
              "      <td>0.038748</td>\n",
              "      <td>0.020864</td>\n",
              "      <td>0.040238</td>\n",
              "      <td>0.034277</td>\n",
              "      <td>0.025335</td>\n",
              "      <td>0.031297</td>\n",
              "      <td>0.023845</td>\n",
              "      <td>0.098361</td>\n",
              "      <td>0.074516</td>\n",
              "      <td>0.041729</td>\n",
              "      <td>0.028316</td>\n",
              "      <td>0.062593</td>\n",
              "      <td>0.011923</td>\n",
              "      <td>0.0</td>\n",
              "    </tr>\n",
              "    <tr>\n",
              "      <th>7</th>\n",
              "      <td>0.183502</td>\n",
              "      <td>0.173401</td>\n",
              "      <td>0.132997</td>\n",
              "      <td>0.031987</td>\n",
              "      <td>0.015152</td>\n",
              "      <td>0.037037</td>\n",
              "      <td>0.006734</td>\n",
              "      <td>0.035354</td>\n",
              "      <td>0.055556</td>\n",
              "      <td>0.035354</td>\n",
              "      <td>0.104377</td>\n",
              "      <td>0.053872</td>\n",
              "      <td>0.031987</td>\n",
              "      <td>0.030303</td>\n",
              "      <td>0.060606</td>\n",
              "      <td>0.011785</td>\n",
              "      <td>0.0</td>\n",
              "    </tr>\n",
              "    <tr>\n",
              "      <th>8</th>\n",
              "      <td>0.152905</td>\n",
              "      <td>0.181957</td>\n",
              "      <td>0.126911</td>\n",
              "      <td>0.029052</td>\n",
              "      <td>0.015291</td>\n",
              "      <td>0.056575</td>\n",
              "      <td>0.021407</td>\n",
              "      <td>0.039755</td>\n",
              "      <td>0.045872</td>\n",
              "      <td>0.027523</td>\n",
              "      <td>0.125382</td>\n",
              "      <td>0.051988</td>\n",
              "      <td>0.039755</td>\n",
              "      <td>0.024465</td>\n",
              "      <td>0.047401</td>\n",
              "      <td>0.013761</td>\n",
              "      <td>0.0</td>\n",
              "    </tr>\n",
              "    <tr>\n",
              "      <th>9</th>\n",
              "      <td>0.209709</td>\n",
              "      <td>0.128155</td>\n",
              "      <td>0.081553</td>\n",
              "      <td>0.064078</td>\n",
              "      <td>0.034951</td>\n",
              "      <td>0.052427</td>\n",
              "      <td>0.027184</td>\n",
              "      <td>0.042718</td>\n",
              "      <td>0.069903</td>\n",
              "      <td>0.033010</td>\n",
              "      <td>0.104854</td>\n",
              "      <td>0.062136</td>\n",
              "      <td>0.036893</td>\n",
              "      <td>0.003883</td>\n",
              "      <td>0.036893</td>\n",
              "      <td>0.011650</td>\n",
              "      <td>0.0</td>\n",
              "    </tr>\n",
              "  </tbody>\n",
              "</table>\n",
              "</div>"
            ],
            "text/plain": [
              "         0         1         2         3         4         5         6   \\\n",
              "0  0.170181  0.138554  0.112952  0.054217  0.030120  0.058735  0.025602   \n",
              "1  0.222789  0.178571  0.103741  0.011905  0.017007  0.023810  0.018707   \n",
              "2  0.218241  0.151466  0.089577  0.040717  0.026059  0.019544  0.014658   \n",
              "3  0.179878  0.146341  0.105183  0.051829  0.019817  0.036585  0.022866   \n",
              "4  0.134686  0.143911  0.112546  0.057196  0.022140  0.053506  0.016605   \n",
              "5  0.145340  0.150079  0.123223  0.050553  0.031596  0.053712  0.014218   \n",
              "6  0.177347  0.163934  0.126677  0.038748  0.020864  0.040238  0.034277   \n",
              "7  0.183502  0.173401  0.132997  0.031987  0.015152  0.037037  0.006734   \n",
              "8  0.152905  0.181957  0.126911  0.029052  0.015291  0.056575  0.021407   \n",
              "9  0.209709  0.128155  0.081553  0.064078  0.034951  0.052427  0.027184   \n",
              "\n",
              "         7         8         9         10        11        12        13  \\\n",
              "0  0.036145  0.055723  0.034639  0.100904  0.081325  0.027108  0.019578   \n",
              "1  0.061224  0.068027  0.042517  0.102041  0.030612  0.034014  0.013605   \n",
              "2  0.052117  0.073290  0.043974  0.128664  0.055375  0.016287  0.035831   \n",
              "3  0.044207  0.062500  0.050305  0.097561  0.076220  0.044207  0.021341   \n",
              "4  0.036900  0.060886  0.036900  0.097786  0.090406  0.044280  0.036900   \n",
              "5  0.037915  0.045814  0.044234  0.107425  0.074250  0.048973  0.011058   \n",
              "6  0.025335  0.031297  0.023845  0.098361  0.074516  0.041729  0.028316   \n",
              "7  0.035354  0.055556  0.035354  0.104377  0.053872  0.031987  0.030303   \n",
              "8  0.039755  0.045872  0.027523  0.125382  0.051988  0.039755  0.024465   \n",
              "9  0.042718  0.069903  0.033010  0.104854  0.062136  0.036893  0.003883   \n",
              "\n",
              "         14        15   16  \n",
              "0  0.042169  0.012048  0.0  \n",
              "1  0.057823  0.013605  0.0  \n",
              "2  0.027687  0.006515  0.0  \n",
              "3  0.041159  0.000000  0.0  \n",
              "4  0.049815  0.005535  0.0  \n",
              "5  0.048973  0.012638  0.0  \n",
              "6  0.062593  0.011923  0.0  \n",
              "7  0.060606  0.011785  0.0  \n",
              "8  0.047401  0.013761  0.0  \n",
              "9  0.036893  0.011650  0.0  "
            ]
          },
          "execution_count": 1272,
          "metadata": {},
          "output_type": "execute_result"
        }
      ],
      "source": [
        "user_favor_matrix = get_user_favor_matrix()\n",
        "print(np.shape(user_favor_matrix))\n",
        "pd.DataFrame(user_favor_matrix).head(10)"
      ]
    },
    {
      "cell_type": "code",
      "execution_count": 1273,
      "metadata": {},
      "outputs": [],
      "source": [
        "def get_CBRecommend(user_index, user_favor, type_rank, threshold=10):\n",
        "    \"\"\"\n",
        "    reccomendation based on contents(genres), only recommend the top1 movie\n",
        "    :param user_index: Target users\n",
        "    :param user_favor: favorite matric for users\n",
        "    :param type_rank: sorting map of different types of movies\n",
        "    :param threshold: At least a threshold personal score is valid\n",
        "    :return: list([movie_index,mean rating, rating number],...)\n",
        "    \"\"\"\n",
        "    favors = user_favor[user_index]\n",
        "    max_val = 0\n",
        "    index = []  # 考虑如果有多个类型都一样喜欢，那么就挑可选出的评分最高的\n",
        "    for i in range(len(favors)):\n",
        "        if max_val != 0 and favors[i] == max_val:\n",
        "            index.append(i)\n",
        "        elif favors[i] > max_val:\n",
        "            max_val = favors[i]\n",
        "            index = [i]\n",
        "    candidate = []\n",
        "    for i in index:\n",
        "        tmp = type_rank[type_map_reverse[i]]  # 获取到该类排名list\n",
        "        for movie in tmp:\n",
        "            if movie[2] > threshold and ratings_matrix[user_index][movie[0]] != 0:\n",
        "                # 必须满足评分人数>threshold且用户没有看过\n",
        "                candidate.append(movie)\n",
        "                break\n",
        "    # 排序，选择最优的\n",
        "    candidate.sort(key=lambda val: (val[1], val[2]))\n",
        "    return candidate[0]\n"
      ]
    },
    {
      "cell_type": "markdown",
      "metadata": {},
      "source": []
    },
    {
      "cell_type": "code",
      "execution_count": 1274,
      "metadata": {},
      "outputs": [
        {
          "name": "stderr",
          "output_type": "stream",
          "text": [
            "d:\\Programs\\Python\\Python39\\lib\\site-packages\\numpy\\lib\\npyio.py:1378: VisibleDeprecationWarning: Creating an ndarray from ragged nested sequences (which is a list-or-tuple of lists-or-tuples-or ndarrays with different lengths or shapes) is deprecated. If you meant to do this, you must specify 'dtype=object' when creating the ndarray.\n",
            "  X = np.asarray(X)\n"
          ]
        },
        {
          "name": "stdout",
          "output_type": "stream",
          "text": [
            "[[3, 3.5365853658536586], [4, 3.5365853658536586], [6, 3.5365853658536586], [10, 3.5365853658536586], [13, 3.5365853658536586]]\n"
          ]
        }
      ],
      "source": [
        "if __name__ == '__main__':\n",
        "    output = [['userId', 'movie']]\n",
        "    user_sim_matrix_by_rating = np.loadtxt(open(\"./pearson_user_sim_matrix.csv\", \"rb\"), delimiter=\",\")\n",
        "    for user in user_list:\n",
        "        res1 = get_CFRecommend(user_sim_matrix_by_rating, user_map[user], 4, 10)[0:5]\n",
        "        output.append([user, res1])\n",
        "    np.savetxt('movie_CF.csv', output, delimiter=',', fmt=\"%s\")\n",
        "\n",
        "for user in user_list:\n",
        "    res1 = get_CFRecommend(user_sim_matrix_by_rating, 1, 4, 10)[0:5]\n",
        "print(res1)"
      ]
    },
    {
      "cell_type": "code",
      "execution_count": 1275,
      "metadata": {},
      "outputs": [
        {
          "name": "stdout",
          "output_type": "stream",
          "text": [
            "[[3, 3.6823529411764704], [4, 3.6823529411764704], [6, 3.6823529411764704], [10, 3.6823529411764704], [13, 3.6823529411764704]]\n"
          ]
        }
      ],
      "source": [
        "if __name__ == '__main__':\n",
        "    output = [['userId', 'movie']]\n",
        "    movie_sim_matrix_by_rating = np.loadtxt(open(\"./pearson_movie_sim_matrix.csv\", \"rb\"), delimiter=\",\")\n",
        "    for user in user_list:\n",
        "        res1 = get_movie_CFRecommend(movie_sim_matrix_by_rating, user_map[user], 4, 10)[0:5]\n",
        "        output.append([user, res1])\n",
        "    np.savetxt('movie_CF_m.csv', output, delimiter=',', fmt=\"%s\")\n",
        "\n",
        "for user in user_list:\n",
        "    res1 = get_movie_CFRecommend(movie_sim_matrix_by_rating, 1, 4, 10)[0:5]\n",
        "print(res1)"
      ]
    },
    {
      "cell_type": "code",
      "execution_count": 1276,
      "metadata": {},
      "outputs": [],
      "source": [
        "if __name__ == '__main__':\n",
        "    output = [['userId', 'movieId']]\n",
        "    user_sim_matrix_by_rating = np.loadtxt(open(\"./user_sim_matrix.csv\", \"rb\"), delimiter=\",\")\n",
        "    for user in user_list:\n",
        "        res2 = get_CBRecommend(user_map[user], user_favor_matrix, type_rank_map)\n",
        "        output.append([user, res2[0:5]])\n",
        "    np.savetxt('movie_CB.csv', output, delimiter=',', fmt=\"%s\")"
      ]
    },
    {
      "cell_type": "code",
      "execution_count": 1277,
      "metadata": {},
      "outputs": [],
      "source": [
        "def evaluation(matrix, K):\n",
        "    \"\"\"\n",
        "    评估推荐模型准确度\n",
        "    :param user_sim_matrix: 用户相似度矩阵\n",
        "    :param split: 测试集比例\n",
        "    :return: RMSE计算结果\n",
        "    \"\"\"\n",
        "    n = 0\n",
        "    res = 0\n",
        "    R = 0\n",
        "    split=0.2\n",
        "    user_start = int(len(user_list) * (1 - split))\n",
        "    movie_start = int(len(movie_list) * (1 - split))\n",
        "    cover = {}  # 计算覆盖率，标记推荐的电影列表\n",
        "    for user_index in range(user_start, len(user_list)):\n",
        "        predict = get_predict(matrix, user_index, K)\n",
        "        for movie_index in range(movie_start, len(movie_list)):\n",
        "            if ratings_matrix[user_index][movie_index] != 0:\n",
        "                n += 1\n",
        "                if (predict[movie_index] - ratings_matrix[user_index][movie_index]) ** 2 >0:\n",
        "                    res += (predict[movie_index] - ratings_matrix[user_index][movie_index]) ** 2\n",
        "                    R += abs(predict[movie_index] - ratings_matrix[user_index][movie_index])\n",
        "    for user_index in range(len(user_list)):\n",
        "        recommend = get_CFRecommend(matrix, user_index, K, 10)\n",
        "        for movie in recommend:\n",
        "            cover[movie[0]] = 1\n",
        "    #print(cover.keys())\n",
        "    cover_rate = len(cover.keys()) / len(movie_list)\n",
        "    print('RMSE={},Coverage={}'.format(math.sqrt(res / n), cover_rate))\n",
        "    print('MAE={},Coverage={}'.format(abs(R)/ n, cover_rate))"
      ]
    },
    {
      "cell_type": "code",
      "execution_count": 1278,
      "metadata": {},
      "outputs": [
        {
          "name": "stdout",
          "output_type": "stream",
          "text": [
            "RMSE=2.292862275446743,Coverage=0.29333333333333333\n",
            "MAE=2.062670695915249,Coverage=0.29333333333333333\n"
          ]
        }
      ],
      "source": [
        "evaluation(user_sim_matrix, 28)"
      ]
    },
    {
      "cell_type": "code",
      "execution_count": 1281,
      "metadata": {},
      "outputs": [],
      "source": [
        "def movie_evaluation(matrix,K):\n",
        "    \"\"\"\n",
        "    评估推荐模型准确度\n",
        "    :param user_sim_matrix: 用户相似度矩阵\n",
        "    :param split: 测试集比例\n",
        "    :return: RMSE计算结果\n",
        "    \"\"\"\n",
        "    n = 0\n",
        "    res = 0\n",
        "    Res = 0\n",
        "    split=0.2\n",
        "    user_start = int(len(user_list) * (1 - split))\n",
        "    movie_start = int(len(movie_list) * (1 - split))\n",
        "    cover = {}  # 计算覆盖率，标记推荐的电影列表\n",
        "    for user_index in range(user_start, len(user_list)):\n",
        "        predict = get_movie_predict(matrix, user_index, K)\n",
        "        for movie_index in range(movie_start, len(movie_list)):\n",
        "            if ratings_matrix[user_index][movie_index] != 0:\n",
        "                n += 1\n",
        "                if (predict[movie_index] - ratings_matrix[user_index][movie_index]) ** 2 >0:\n",
        "                    res += (predict[movie_index] - ratings_matrix[user_index][movie_index]) ** 2\n",
        "                    Res += abs(predict[movie_index] - ratings_matrix[user_index][movie_index])\n",
        "    for user_index in range(len(user_list)):\n",
        "        recommend = get_movie_CFRecommend(matrix, user_index, K, 10)\n",
        "        for movie in recommend:\n",
        "            cover[movie[0]] = 1\n",
        "    #print(cover.keys())\n",
        "    cover_rate = len(cover.keys()) / len(movie_list)\n",
        "    return [math.sqrt(res / n), abs(Res)/ n]\n",
        "    print('RMSE={},Coverage={}'.format(math.sqrt(res / n), cover_rate))\n",
        "    print('MAE={},Coverage={}'.format(abs(Res)/ n, cover_rate))"
      ]
    },
    {
      "cell_type": "code",
      "execution_count": 1284,
      "metadata": {},
      "outputs": [
        {
          "name": "stdout",
          "output_type": "stream",
          "text": [
            "2.02890711573674\n"
          ]
        }
      ],
      "source": [
        "r=movie_evaluation(pearson_movie_sim_matrix, 28)\n",
        "print(r[0])"
      ]
    },
    {
      "cell_type": "code",
      "execution_count": 1286,
      "metadata": {},
      "outputs": [
        {
          "name": "stdout",
          "output_type": "stream",
          "text": [
            "[2.02890711573674, 2.02890711573674, 2.02890711573674, 2.02890711573674, 2.02890711573674, 2.02890711573674, 2.02890711573674, 2.02890711573674, 2.02890711573674, 2.02890711573674, 2.02890711573674, 2.02890711573674, 2.02890711573674, 2.02890711573674, 2.02890711573674, 2.02890711573674]\n"
          ]
        }
      ],
      "source": [
        "MAE=[]\n",
        "RMSE=[]\n",
        "for K in range(3,50,3):\n",
        "    pre=movie_evaluation(pearson_movie_sim_matrix, 28)\n",
        "    MAE.append(pre[0])\n",
        "    RMSE.append(pre[1])\n",
        "print(MAE)\n"
      ]
    }
  ],
  "metadata": {
    "colab": {
      "name": "Assignment-Climate-Findel.ipynb",
      "provenance": []
    },
    "interpreter": {
      "hash": "501834c540f8b330c04c1d43ec1666643355d13f80c9caf7e1080236b3fb263f"
    },
    "kernelspec": {
      "display_name": "Python 3.9.4 64-bit",
      "language": "python",
      "name": "python3"
    },
    "language_info": {
      "codemirror_mode": {
        "name": "ipython",
        "version": 3
      },
      "file_extension": ".py",
      "mimetype": "text/x-python",
      "name": "python",
      "nbconvert_exporter": "python",
      "pygments_lexer": "ipython3",
      "version": "3.9.4"
    }
  },
  "nbformat": 4,
  "nbformat_minor": 0
}
